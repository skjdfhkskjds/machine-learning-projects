{
 "cells": [
  {
   "cell_type": "code",
   "execution_count": 1,
   "metadata": {},
   "outputs": [],
   "source": [
    "import tensorflow as tf\n",
    "import pandas as pd\n",
    "\n",
    "from tensorflow.keras.models import Sequential\n",
    "from tensorflow.keras.layers import Dense, Conv2D, Flatten, Dropout, MaxPooling2D, GlobalAveragePooling2D\n",
    "from tensorflow.keras.preprocessing.image import ImageDataGenerator\n",
    "from tensorflow.keras.applications.resnet import ResNet50\n",
    "from tensorflow.keras.models import Model\n",
    "\n",
    "import os\n",
    "import numpy as np\n",
    "import matplotlib.pyplot as plt\n",
    "\n",
    "from sklearn.model_selection import train_test_split\n",
    "from sklearn.impute import SimpleImputer\n",
    "from sklearn.cluster import KMeans"
   ]
  },
  {
   "cell_type": "code",
   "execution_count": 2,
   "metadata": {},
   "outputs": [],
   "source": [
    "path = 'Traffic Sign Recognition'\n",
    "lab = pd.read_csv(path + '/labels.csv')"
   ]
  },
  {
   "cell_type": "code",
   "execution_count": 3,
   "metadata": {},
   "outputs": [],
   "source": [
    "d = dict()\n",
    "class_labels = dict()\n",
    "for dirs in os.listdir(path + '/myData'):\n",
    "    count = len(os.listdir(path+'/myData/'+dirs))\n",
    "    d[dirs+' => '+lab[lab.ClassId == int(dirs)].values[0][1]] = count\n",
    "    class_labels[int(dirs)] = lab[lab.ClassId == int(dirs)].values[0][1]"
   ]
  },
  {
   "cell_type": "code",
   "execution_count": 4,
   "metadata": {},
   "outputs": [
    {
     "name": "stdout",
     "output_type": "stream",
     "text": [
      "Found 73139 images belonging to 43 classes.\n"
     ]
    }
   ],
   "source": [
    "# input image dimensions\n",
    "img_rows, img_cols = 32, 32\n",
    "# The images are RGB.\n",
    "img_channels = 3\n",
    "nb_classes = len(class_labels.keys())\n",
    "\n",
    "datagen = ImageDataGenerator()\n",
    "data = datagen.flow_from_directory(path + '/myData',\n",
    "                                    target_size=(32, 32),\n",
    "                                    batch_size=73139,\n",
    "                                    class_mode='categorical',\n",
    "                                    shuffle=True )"
   ]
  },
  {
   "cell_type": "code",
   "execution_count": 5,
   "metadata": {},
   "outputs": [],
   "source": [
    "X , y = data.next()\n",
    "\n",
    "X_train, X_test, y_train, y_test = train_test_split(X, y, test_size=0.20, random_state=11)"
   ]
  },
  {
   "cell_type": "code",
   "execution_count": 6,
   "metadata": {},
   "outputs": [],
   "source": [
    "resnet = ResNet50(weights= None, include_top=False, input_shape= (img_rows,img_cols,img_channels))\n",
    "x = resnet.output\n",
    "x = GlobalAveragePooling2D()(x)\n",
    "x = Dropout(0.5)(x)\n",
    "predictions = Dense(nb_classes, activation= 'softmax')(x)\n",
    "model = Model(inputs = resnet.input, outputs = predictions)\n",
    "\n",
    "model.compile(optimizer='adam', loss='categorical_crossentropy', metrics=['accuracy'])"
   ]
  },
  {
   "cell_type": "code",
   "execution_count": 7,
   "metadata": {},
   "outputs": [
    {
     "name": "stdout",
     "output_type": "stream",
     "text": [
      "Epoch 1/50\n",
      "1829/1829 [==============================] - 147s 74ms/step - loss: 4.3179 - accuracy: 0.1067 - val_loss: 58.1082 - val_accuracy: 0.0723\n",
      "Epoch 2/50\n",
      "1829/1829 [==============================] - 137s 75ms/step - loss: 3.7285 - accuracy: 0.1254 - val_loss: 3.4078 - val_accuracy: 0.1098\n",
      "Epoch 3/50\n",
      "1829/1829 [==============================] - 137s 75ms/step - loss: 3.4257 - accuracy: 0.1517 - val_loss: 10.2677 - val_accuracy: 0.1399\n",
      "Epoch 4/50\n",
      "1829/1829 [==============================] - 137s 75ms/step - loss: 2.8864 - accuracy: 0.2381 - val_loss: 11.6311 - val_accuracy: 0.2130\n",
      "Epoch 5/50\n",
      "1829/1829 [==============================] - 137s 75ms/step - loss: 1.9653 - accuracy: 0.4321 - val_loss: 5.2521 - val_accuracy: 0.4629\n",
      "Epoch 6/50\n",
      "1829/1829 [==============================] - 134s 73ms/step - loss: 1.3362 - accuracy: 0.6035 - val_loss: 0.9218 - val_accuracy: 0.7023\n",
      "Epoch 7/50\n",
      "1829/1829 [==============================] - 129s 71ms/step - loss: 0.5839 - accuracy: 0.8186 - val_loss: 0.3500 - val_accuracy: 0.8840\n",
      "Epoch 8/50\n",
      "1829/1829 [==============================] - 129s 71ms/step - loss: 0.3365 - accuracy: 0.9017 - val_loss: 0.2266 - val_accuracy: 0.9451\n",
      "Epoch 9/50\n",
      "1829/1829 [==============================] - 129s 71ms/step - loss: 0.1950 - accuracy: 0.9440 - val_loss: 0.0861 - val_accuracy: 0.9731\n",
      "Epoch 10/50\n",
      "1829/1829 [==============================] - 129s 71ms/step - loss: 0.1650 - accuracy: 0.9524 - val_loss: 0.1009 - val_accuracy: 0.9694\n",
      "Epoch 11/50\n",
      "1829/1829 [==============================] - 129s 71ms/step - loss: 0.1772 - accuracy: 0.9531 - val_loss: 1.2845 - val_accuracy: 0.9226\n",
      "Epoch 12/50\n",
      "1829/1829 [==============================] - 129s 71ms/step - loss: 0.1543 - accuracy: 0.9585 - val_loss: 0.0501 - val_accuracy: 0.9843\n",
      "Epoch 13/50\n",
      "1829/1829 [==============================] - 130s 71ms/step - loss: 0.1119 - accuracy: 0.9703 - val_loss: 10.2231 - val_accuracy: 0.8311\n",
      "Epoch 14/50\n",
      "1829/1829 [==============================] - 129s 71ms/step - loss: 0.0922 - accuracy: 0.9744 - val_loss: 0.0386 - val_accuracy: 0.9879\n",
      "Epoch 15/50\n",
      "1829/1829 [==============================] - 130s 71ms/step - loss: 0.0471 - accuracy: 0.9861 - val_loss: 0.0369 - val_accuracy: 0.9891\n",
      "Epoch 16/50\n",
      "1829/1829 [==============================] - 129s 71ms/step - loss: 0.0838 - accuracy: 0.9775 - val_loss: 0.0387 - val_accuracy: 0.9885\n",
      "Epoch 17/50\n",
      "1829/1829 [==============================] - 130s 71ms/step - loss: 0.0411 - accuracy: 0.9883 - val_loss: 0.0480 - val_accuracy: 0.9861\n",
      "Epoch 18/50\n",
      "1829/1829 [==============================] - 129s 71ms/step - loss: 0.0560 - accuracy: 0.9846 - val_loss: 0.0251 - val_accuracy: 0.9929\n",
      "Epoch 19/50\n",
      "1829/1829 [==============================] - 130s 71ms/step - loss: 0.0374 - accuracy: 0.9898 - val_loss: 0.0251 - val_accuracy: 0.9928\n",
      "Epoch 20/50\n",
      "1829/1829 [==============================] - 130s 71ms/step - loss: 0.0408 - accuracy: 0.9891 - val_loss: 1.4901 - val_accuracy: 0.9731\n",
      "Epoch 21/50\n",
      "1829/1829 [==============================] - 129s 71ms/step - loss: 0.0628 - accuracy: 0.9842 - val_loss: 0.0311 - val_accuracy: 0.9904\n",
      "Epoch 22/50\n",
      "1829/1829 [==============================] - 129s 71ms/step - loss: 0.0303 - accuracy: 0.9923 - val_loss: 0.0180 - val_accuracy: 0.9945\n",
      "Epoch 23/50\n",
      "1829/1829 [==============================] - 129s 71ms/step - loss: 0.0477 - accuracy: 0.9886 - val_loss: 0.0281 - val_accuracy: 0.9920\n",
      "Epoch 24/50\n",
      "1829/1829 [==============================] - 129s 71ms/step - loss: 0.0253 - accuracy: 0.9935 - val_loss: 0.0171 - val_accuracy: 0.9956\n",
      "Epoch 25/50\n",
      "1829/1829 [==============================] - 130s 71ms/step - loss: 0.0316 - accuracy: 0.9918 - val_loss: 0.0505 - val_accuracy: 0.9863\n",
      "Epoch 26/50\n",
      "1829/1829 [==============================] - 130s 71ms/step - loss: 0.0215 - accuracy: 0.9941 - val_loss: 0.1629 - val_accuracy: 0.9678\n",
      "Epoch 27/50\n",
      "1829/1829 [==============================] - 130s 71ms/step - loss: 0.0237 - accuracy: 0.9939 - val_loss: 0.0165 - val_accuracy: 0.9964\n",
      "Epoch 28/50\n",
      "1829/1829 [==============================] - 130s 71ms/step - loss: 0.0256 - accuracy: 0.9938 - val_loss: 0.0141 - val_accuracy: 0.9962\n",
      "Epoch 29/50\n",
      "1829/1829 [==============================] - 131s 71ms/step - loss: 0.0236 - accuracy: 0.9944 - val_loss: 0.0169 - val_accuracy: 0.9953\n",
      "Epoch 30/50\n",
      "1829/1829 [==============================] - 130s 71ms/step - loss: 0.0220 - accuracy: 0.9948 - val_loss: 0.0224 - val_accuracy: 0.9950\n",
      "Epoch 31/50\n",
      "1829/1829 [==============================] - 131s 71ms/step - loss: 0.0165 - accuracy: 0.9952 - val_loss: 0.0413 - val_accuracy: 0.9887\n",
      "Epoch 32/50\n",
      "1829/1829 [==============================] - 130s 71ms/step - loss: 0.0179 - accuracy: 0.9955 - val_loss: 0.0176 - val_accuracy: 0.9953\n",
      "Epoch 33/50\n",
      "1829/1829 [==============================] - 130s 71ms/step - loss: 0.0360 - accuracy: 0.9931 - val_loss: 0.0208 - val_accuracy: 0.9942\n",
      "Epoch 34/50\n",
      "1829/1829 [==============================] - 130s 71ms/step - loss: 0.0211 - accuracy: 0.9956 - val_loss: 0.0115 - val_accuracy: 0.9973\n",
      "Epoch 35/50\n",
      "1829/1829 [==============================] - 130s 71ms/step - loss: 0.0156 - accuracy: 0.9960 - val_loss: 0.0111 - val_accuracy: 0.9978\n",
      "Epoch 36/50\n",
      "1829/1829 [==============================] - 130s 71ms/step - loss: 0.0139 - accuracy: 0.9965 - val_loss: 0.0678 - val_accuracy: 0.9851\n",
      "Epoch 37/50\n",
      "1829/1829 [==============================] - 130s 71ms/step - loss: 0.0199 - accuracy: 0.9950 - val_loss: 0.0698 - val_accuracy: 0.9837\n",
      "Epoch 38/50\n",
      "1829/1829 [==============================] - 130s 71ms/step - loss: 0.0244 - accuracy: 0.9945 - val_loss: 0.0150 - val_accuracy: 0.9966\n",
      "Epoch 39/50\n",
      "1829/1829 [==============================] - 131s 71ms/step - loss: 0.0155 - accuracy: 0.9963 - val_loss: 0.0202 - val_accuracy: 0.9957\n",
      "Epoch 40/50\n",
      "1829/1829 [==============================] - 130s 71ms/step - loss: 0.0181 - accuracy: 0.9962 - val_loss: 0.0097 - val_accuracy: 0.9975\n",
      "Epoch 41/50\n",
      "1829/1829 [==============================] - 130s 71ms/step - loss: 0.0198 - accuracy: 0.9958 - val_loss: 0.0488 - val_accuracy: 0.9877\n",
      "Epoch 42/50\n",
      "1829/1829 [==============================] - 130s 71ms/step - loss: 0.0130 - accuracy: 0.9968 - val_loss: 0.0425 - val_accuracy: 0.9914\n",
      "Epoch 43/50\n",
      "1829/1829 [==============================] - 130s 71ms/step - loss: 0.0119 - accuracy: 0.9971 - val_loss: 0.0116 - val_accuracy: 0.9975\n",
      "Epoch 44/50\n",
      "1829/1829 [==============================] - 131s 71ms/step - loss: 0.0177 - accuracy: 0.9962 - val_loss: 0.0546 - val_accuracy: 0.9878\n",
      "Epoch 45/50\n",
      "1829/1829 [==============================] - 130s 71ms/step - loss: 0.0095 - accuracy: 0.9976 - val_loss: 0.0160 - val_accuracy: 0.9957\n",
      "Epoch 46/50\n",
      "1829/1829 [==============================] - 130s 71ms/step - loss: 0.0120 - accuracy: 0.9974 - val_loss: 0.0147 - val_accuracy: 0.9967\n",
      "Epoch 47/50\n",
      "1829/1829 [==============================] - 130s 71ms/step - loss: 0.0108 - accuracy: 0.9975 - val_loss: 0.0889 - val_accuracy: 0.9867\n",
      "Epoch 48/50\n",
      "1829/1829 [==============================] - 130s 71ms/step - loss: 0.0125 - accuracy: 0.9973 - val_loss: 0.0146 - val_accuracy: 0.9970\n",
      "Epoch 49/50\n",
      "1829/1829 [==============================] - 130s 71ms/step - loss: 0.0085 - accuracy: 0.9978 - val_loss: 0.0419 - val_accuracy: 0.9917\n",
      "Epoch 50/50\n",
      "1829/1829 [==============================] - 130s 71ms/step - loss: 0.0262 - accuracy: 0.9957 - val_loss: 0.0090 - val_accuracy: 0.9979\n"
     ]
    }
   ],
   "source": [
    "n_epochs = 50\n",
    "history =  model.fit(X_train, y_train,  batch_size = 32, epochs = n_epochs, verbose = 1, \n",
    "              validation_data = (X_test, y_test))"
   ]
  },
  {
   "cell_type": "code",
   "execution_count": 8,
   "metadata": {},
   "outputs": [
    {
     "name": "stderr",
     "output_type": "stream",
     "text": [
      "C:\\Users\\colin\\anaconda3\\lib\\site-packages\\keras\\engine\\functional.py:1410: CustomMaskWarning: Custom mask layers require a config and must override get_config. When loading, the custom mask layer must be passed to the custom_objects argument.\n",
      "  layer_config = serialize_layer_fn(layer)\n"
     ]
    }
   ],
   "source": [
    "model.save('traffic_sign_classifier.h5')"
   ]
  }
 ],
 "metadata": {
  "interpreter": {
   "hash": "d4e65fd403391fc192a9df0a2101c61986140267a07df91da3704987550b2fb5"
  },
  "kernelspec": {
   "display_name": "Python 3.9.7 64-bit ('base': conda)",
   "language": "python",
   "name": "python3"
  },
  "language_info": {
   "codemirror_mode": {
    "name": "ipython",
    "version": 3
   },
   "file_extension": ".py",
   "mimetype": "text/x-python",
   "name": "python",
   "nbconvert_exporter": "python",
   "pygments_lexer": "ipython3",
   "version": "3.9.7"
  },
  "orig_nbformat": 4
 },
 "nbformat": 4,
 "nbformat_minor": 2
}
