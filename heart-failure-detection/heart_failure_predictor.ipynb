{
 "cells": [
  {
   "cell_type": "code",
   "execution_count": 12,
   "metadata": {},
   "outputs": [],
   "source": [
    "import numpy as np\n",
    "import pandas as pd\n",
    "\n",
    "from sklearn.model_selection import train_test_split\n",
    "from sklearn.impute import SimpleImputer\n",
    "from sklearn.cluster import KMeans\n",
    "\n",
    "import tensorflow as tf\n",
    "from tensorflow import keras\n",
    "# from tensorflow.keras import layers\n",
    "\n",
    "# import tensorflow_docs.modeling"
   ]
  },
  {
   "cell_type": "code",
   "execution_count": 13,
   "metadata": {},
   "outputs": [
    {
     "data": {
      "text/plain": [
       "Age               0.0\n",
       "Sex               0.0\n",
       "ChestPainType     0.0\n",
       "RestingBP         0.0\n",
       "Cholesterol       0.0\n",
       "FastingBS         0.0\n",
       "RestingECG        0.0\n",
       "MaxHR             0.0\n",
       "ExerciseAngina    0.0\n",
       "Oldpeak           0.0\n",
       "ST_Slope          0.0\n",
       "HeartDisease      0.0\n",
       "dtype: float64"
      ]
     },
     "execution_count": 13,
     "metadata": {},
     "output_type": "execute_result"
    }
   ],
   "source": [
    "url = 'https://raw.githubusercontent.com/skjdfhkskjds/machine-learning-projects/main/heart.csv'\n",
    "df = pd.read_csv(url)\n",
    "df.tail()\n",
    "df.isnull().sum().sort_values(ascending=False)/df.shape[0]"
   ]
  },
  {
   "cell_type": "code",
   "execution_count": 14,
   "metadata": {},
   "outputs": [],
   "source": [
    "features = ['Age','Sex','ChestPainType','RestingBP','Cholesterol','FastingBS','RestingECG','MaxHR','ExerciseAngina','Oldpeak','ST_Slope']\n",
    "numerical_features = ['Age','RestingBP','Cholesterol','FastingBS','MaxHR','Oldpeak']\n",
    "categorical_features = ['Sex','ChestPainType','RestingECG','ExerciseAngina','ST_Slope']\n",
    "\n",
    "#Instantiate SimpleImputer \n",
    "si=SimpleImputer(missing_values = np.nan, strategy=\"median\")\n",
    "si.fit(df[numerical_features])\n",
    "  \n",
    "#Filling missing data with median\n",
    "df[numerical_features] = si.transform(df[numerical_features])\n",
    "\n",
    "for category in categorical_features:\n",
    "  df[category] = pd.factorize(df[category])[0]\n",
    "\n",
    "#Adds a new feature called type of patient based on the kmeans clustering of the dataset\n",
    "kmeans = KMeans(n_clusters=2)\n",
    "kmeans.fit(df[features])\n",
    "df['typeOfPatient'] = kmeans.predict(df[features])"
   ]
  },
  {
   "cell_type": "code",
   "execution_count": 15,
   "metadata": {},
   "outputs": [],
   "source": [
    "#splits the dataset into 80:20 training and testing data\n",
    "y = df.pop('HeartDisease')\n",
    "dftrain, dftest, y_train, y_test = train_test_split(df, y, test_size=0.2, random_state=0)"
   ]
  },
  {
   "cell_type": "code",
   "execution_count": 16,
   "metadata": {},
   "outputs": [
    {
     "name": "stderr",
     "output_type": "stream",
     "text": [
      "C:\\Users\\colin\\anaconda3\\lib\\site-packages\\pandas\\core\\frame.py:3678: SettingWithCopyWarning: \n",
      "A value is trying to be set on a copy of a slice from a DataFrame.\n",
      "Try using .loc[row_indexer,col_indexer] = value instead\n",
      "\n",
      "See the caveats in the documentation: https://pandas.pydata.org/pandas-docs/stable/user_guide/indexing.html#returning-a-view-versus-a-copy\n",
      "  self[col] = igetitem(value, i)\n",
      "C:\\Users\\colin\\anaconda3\\lib\\site-packages\\pandas\\core\\frame.py:3678: SettingWithCopyWarning: \n",
      "A value is trying to be set on a copy of a slice from a DataFrame.\n",
      "Try using .loc[row_indexer,col_indexer] = value instead\n",
      "\n",
      "See the caveats in the documentation: https://pandas.pydata.org/pandas-docs/stable/user_guide/indexing.html#returning-a-view-versus-a-copy\n",
      "  self[col] = igetitem(value, i)\n"
     ]
    }
   ],
   "source": [
    "from sklearn.preprocessing import StandardScaler\n",
    "# Scaling numeric features using sklearn StandardScalar\n",
    "sc = StandardScaler()\n",
    "dftrain[numerical_features] = sc.fit_transform(dftrain[numerical_features])\n",
    "dftest[numerical_features] = sc.transform(dftest[numerical_features])\n",
    "\n",
    "model = keras.Sequential([\n",
    "    keras.layers.Flatten(),\n",
    "    keras.layers.Dense(16, activation=tf.nn.relu),\n",
    "    keras.layers.Dense(16, activation=tf.nn.relu),\n",
    "    keras.layers.Dense(1, activation=tf.nn.sigmoid),\n",
    "])"
   ]
  },
  {
   "cell_type": "code",
   "execution_count": 17,
   "metadata": {},
   "outputs": [],
   "source": [
    "model.compile(optimizer='adam',\n",
    "              loss='binary_crossentropy',\n",
    "              metrics=['accuracy'])"
   ]
  },
  {
   "cell_type": "code",
   "execution_count": 18,
   "metadata": {},
   "outputs": [
    {
     "name": "stdout",
     "output_type": "stream",
     "text": [
      "Epoch 1/60\n",
      "734/734 [==============================] - 1s 714us/step - loss: 0.5136 - accuracy: 0.7616\n",
      "Epoch 2/60\n",
      "734/734 [==============================] - 1s 690us/step - loss: 0.3876 - accuracy: 0.8501\n",
      "Epoch 3/60\n",
      "734/734 [==============================] - 1s 729us/step - loss: 0.3567 - accuracy: 0.8638\n",
      "Epoch 4/60\n",
      "734/734 [==============================] - 1s 720us/step - loss: 0.3404 - accuracy: 0.8733\n",
      "Epoch 5/60\n",
      "734/734 [==============================] - 1s 723us/step - loss: 0.3245 - accuracy: 0.8801\n",
      "Epoch 6/60\n",
      "734/734 [==============================] - 1s 700us/step - loss: 0.3179 - accuracy: 0.8706\n",
      "Epoch 7/60\n",
      "734/734 [==============================] - 1s 712us/step - loss: 0.3075 - accuracy: 0.8787\n",
      "Epoch 8/60\n",
      "734/734 [==============================] - 1s 688us/step - loss: 0.2948 - accuracy: 0.8883\n",
      "Epoch 9/60\n",
      "734/734 [==============================] - 1s 707us/step - loss: 0.2913 - accuracy: 0.8828\n",
      "Epoch 10/60\n",
      "734/734 [==============================] - 1s 720us/step - loss: 0.2835 - accuracy: 0.8856\n",
      "Epoch 11/60\n",
      "734/734 [==============================] - 1s 704us/step - loss: 0.2777 - accuracy: 0.8869\n",
      "Epoch 12/60\n",
      "734/734 [==============================] - 1s 682us/step - loss: 0.2699 - accuracy: 0.8978\n",
      "Epoch 13/60\n",
      "734/734 [==============================] - 1s 692us/step - loss: 0.2655 - accuracy: 0.8896\n",
      "Epoch 14/60\n",
      "734/734 [==============================] - 1s 686us/step - loss: 0.2619 - accuracy: 0.8937\n",
      "Epoch 15/60\n",
      "734/734 [==============================] - 1s 722us/step - loss: 0.2535 - accuracy: 0.8951\n",
      "Epoch 16/60\n",
      "734/734 [==============================] - 1s 754us/step - loss: 0.2528 - accuracy: 0.8951\n",
      "Epoch 17/60\n",
      "734/734 [==============================] - 1s 705us/step - loss: 0.2454 - accuracy: 0.8992\n",
      "Epoch 18/60\n",
      "734/734 [==============================] - 0s 678us/step - loss: 0.2436 - accuracy: 0.9033\n",
      "Epoch 19/60\n",
      "734/734 [==============================] - 0s 663us/step - loss: 0.2401 - accuracy: 0.8992\n",
      "Epoch 20/60\n",
      "734/734 [==============================] - 1s 692us/step - loss: 0.2396 - accuracy: 0.9114\n",
      "Epoch 21/60\n",
      "734/734 [==============================] - 0s 675us/step - loss: 0.2350 - accuracy: 0.9046\n",
      "Epoch 22/60\n",
      "734/734 [==============================] - 0s 670us/step - loss: 0.2302 - accuracy: 0.9114\n",
      "Epoch 23/60\n",
      "734/734 [==============================] - 0s 673us/step - loss: 0.2262 - accuracy: 0.9169\n",
      "Epoch 24/60\n",
      "734/734 [==============================] - 0s 677us/step - loss: 0.2242 - accuracy: 0.9074\n",
      "Epoch 25/60\n",
      "734/734 [==============================] - 0s 660us/step - loss: 0.2166 - accuracy: 0.9114\n",
      "Epoch 26/60\n",
      "734/734 [==============================] - 0s 674us/step - loss: 0.2166 - accuracy: 0.9142\n",
      "Epoch 27/60\n",
      "734/734 [==============================] - 0s 677us/step - loss: 0.2110 - accuracy: 0.9169\n",
      "Epoch 28/60\n",
      "734/734 [==============================] - 0s 666us/step - loss: 0.2072 - accuracy: 0.9114\n",
      "Epoch 29/60\n",
      "734/734 [==============================] - 0s 662us/step - loss: 0.2080 - accuracy: 0.9210\n",
      "Epoch 30/60\n",
      "734/734 [==============================] - 0s 673us/step - loss: 0.2053 - accuracy: 0.9196\n",
      "Epoch 31/60\n",
      "734/734 [==============================] - 0s 667us/step - loss: 0.2034 - accuracy: 0.9183\n",
      "Epoch 32/60\n",
      "734/734 [==============================] - 0s 660us/step - loss: 0.1973 - accuracy: 0.9223\n",
      "Epoch 33/60\n",
      "734/734 [==============================] - 0s 668us/step - loss: 0.1942 - accuracy: 0.9223\n",
      "Epoch 34/60\n",
      "734/734 [==============================] - 0s 668us/step - loss: 0.1933 - accuracy: 0.9264\n",
      "Epoch 35/60\n",
      "734/734 [==============================] - 0s 674us/step - loss: 0.1894 - accuracy: 0.9264\n",
      "Epoch 36/60\n",
      "734/734 [==============================] - 0s 662us/step - loss: 0.1902 - accuracy: 0.9319\n",
      "Epoch 37/60\n",
      "734/734 [==============================] - 1s 690us/step - loss: 0.1872 - accuracy: 0.9292\n",
      "Epoch 38/60\n",
      "734/734 [==============================] - 0s 674us/step - loss: 0.1838 - accuracy: 0.9278\n",
      "Epoch 39/60\n",
      "734/734 [==============================] - 0s 672us/step - loss: 0.1817 - accuracy: 0.9305\n",
      "Epoch 40/60\n",
      "734/734 [==============================] - 0s 668us/step - loss: 0.1798 - accuracy: 0.9292\n",
      "Epoch 41/60\n",
      "734/734 [==============================] - 0s 658us/step - loss: 0.1806 - accuracy: 0.9223\n",
      "Epoch 42/60\n",
      "734/734 [==============================] - 0s 662us/step - loss: 0.1711 - accuracy: 0.9292\n",
      "Epoch 43/60\n",
      "734/734 [==============================] - 0s 669us/step - loss: 0.1706 - accuracy: 0.9292\n",
      "Epoch 44/60\n",
      "734/734 [==============================] - 0s 663us/step - loss: 0.1727 - accuracy: 0.9332\n",
      "Epoch 45/60\n",
      "734/734 [==============================] - 0s 672us/step - loss: 0.1694 - accuracy: 0.9441\n",
      "Epoch 46/60\n",
      "734/734 [==============================] - 0s 662us/step - loss: 0.1705 - accuracy: 0.9305\n",
      "Epoch 47/60\n",
      "734/734 [==============================] - 1s 694us/step - loss: 0.1640 - accuracy: 0.9414\n",
      "Epoch 48/60\n",
      "734/734 [==============================] - 0s 671us/step - loss: 0.1672 - accuracy: 0.9360\n",
      "Epoch 49/60\n",
      "734/734 [==============================] - 0s 662us/step - loss: 0.1656 - accuracy: 0.9387\n",
      "Epoch 50/60\n",
      "734/734 [==============================] - 0s 676us/step - loss: 0.1644 - accuracy: 0.9332\n",
      "Epoch 51/60\n",
      "734/734 [==============================] - 0s 659us/step - loss: 0.1633 - accuracy: 0.9387\n",
      "Epoch 52/60\n",
      "734/734 [==============================] - 0s 664us/step - loss: 0.1563 - accuracy: 0.9414\n",
      "Epoch 53/60\n",
      "734/734 [==============================] - 0s 667us/step - loss: 0.1599 - accuracy: 0.9428\n",
      "Epoch 54/60\n",
      "734/734 [==============================] - 0s 665us/step - loss: 0.1548 - accuracy: 0.9414\n",
      "Epoch 55/60\n",
      "734/734 [==============================] - 0s 670us/step - loss: 0.1519 - accuracy: 0.9455\n",
      "Epoch 56/60\n",
      "734/734 [==============================] - 1s 689us/step - loss: 0.1555 - accuracy: 0.9387\n",
      "Epoch 57/60\n",
      "734/734 [==============================] - 0s 667us/step - loss: 0.1452 - accuracy: 0.9482\n",
      "Epoch 58/60\n",
      "734/734 [==============================] - 0s 662us/step - loss: 0.1526 - accuracy: 0.9401\n",
      "Epoch 59/60\n",
      "734/734 [==============================] - 1s 723us/step - loss: 0.1490 - accuracy: 0.9387\n",
      "Epoch 60/60\n",
      "734/734 [==============================] - 0s 675us/step - loss: 0.1489 - accuracy: 0.9469\n"
     ]
    },
    {
     "data": {
      "text/plain": [
       "<keras.callbacks.History at 0x24ac8fc6460>"
      ]
     },
     "execution_count": 18,
     "metadata": {},
     "output_type": "execute_result"
    }
   ],
   "source": [
    "model.fit(dftrain, y_train, epochs=60, batch_size=1)"
   ]
  },
  {
   "cell_type": "code",
   "execution_count": 19,
   "metadata": {},
   "outputs": [
    {
     "name": "stdout",
     "output_type": "stream",
     "text": [
      "6/6 [==============================] - 0s 600us/step - loss: 0.7065 - accuracy: 0.8424\n",
      "Test accuracy: 0.842391312122345\n"
     ]
    }
   ],
   "source": [
    "test_loss, test_acc = model.evaluate(dftest, y_test)\n",
    "print('Test accuracy:', test_acc)"
   ]
  },
  {
   "cell_type": "code",
   "execution_count": 20,
   "metadata": {},
   "outputs": [],
   "source": [
    "model.save('heart_disease_prediction.h5')"
   ]
  }
 ],
 "metadata": {
  "interpreter": {
   "hash": "d4e65fd403391fc192a9df0a2101c61986140267a07df91da3704987550b2fb5"
  },
  "kernelspec": {
   "display_name": "Python 3.9.7 64-bit ('base': conda)",
   "language": "python",
   "name": "python3"
  },
  "language_info": {
   "codemirror_mode": {
    "name": "ipython",
    "version": 3
   },
   "file_extension": ".py",
   "mimetype": "text/x-python",
   "name": "python",
   "nbconvert_exporter": "python",
   "pygments_lexer": "ipython3",
   "version": "3.9.7"
  },
  "orig_nbformat": 4
 },
 "nbformat": 4,
 "nbformat_minor": 2
}
